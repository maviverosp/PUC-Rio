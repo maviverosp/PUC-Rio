{
  "nbformat": 4,
  "nbformat_minor": 0,
  "metadata": {
    "colab": {
      "provenance": [],
      "authorship_tag": "ABX9TyO2qdudsvSMpa6v2yKgbGDx",
      "include_colab_link": true
    },
    "kernelspec": {
      "name": "python3",
      "display_name": "Python 3"
    },
    "language_info": {
      "name": "python"
    }
  },
  "cells": [
    {
      "cell_type": "markdown",
      "metadata": {
        "id": "view-in-github",
        "colab_type": "text"
      },
      "source": [
        "<a href=\"https://colab.research.google.com/github/maviverosp/PUC-Rio/blob/main/Evolution.ipynb\" target=\"_parent\"><img src=\"https://colab.research.google.com/assets/colab-badge.svg\" alt=\"Open In Colab\"/></a>"
      ]
    },
    {
      "cell_type": "code",
      "execution_count": null,
      "metadata": {
        "colab": {
          "base_uri": "https://localhost:8080/"
        },
        "id": "wJguXn3_EZ12",
        "outputId": "b232c9e6-e263-4ed8-d5b6-ffc7edbe4b82"
      },
      "outputs": [
        {
          "output_type": "stream",
          "name": "stdout",
          "text": [
            "Collecting deap\n",
            "  Downloading deap-1.4.1-cp310-cp310-manylinux_2_5_x86_64.manylinux1_x86_64.manylinux_2_17_x86_64.manylinux2014_x86_64.whl.metadata (13 kB)\n",
            "Requirement already satisfied: numpy in /usr/local/lib/python3.10/dist-packages (from deap) (1.26.4)\n",
            "Downloading deap-1.4.1-cp310-cp310-manylinux_2_5_x86_64.manylinux1_x86_64.manylinux_2_17_x86_64.manylinux2014_x86_64.whl (135 kB)\n",
            "\u001b[2K   \u001b[90m━━━━━━━━━━━━━━━━━━━━━━━━━━━━━━━━━━━━━━━━\u001b[0m \u001b[32m135.4/135.4 kB\u001b[0m \u001b[31m2.5 MB/s\u001b[0m eta \u001b[36m0:00:00\u001b[0m\n",
            "\u001b[?25hInstalling collected packages: deap\n",
            "Successfully installed deap-1.4.1\n"
          ]
        }
      ],
      "source": [
        "!pip install deap"
      ]
    },
    {
      "cell_type": "code",
      "source": [
        "#Bibliotecas que utilizaremos\n",
        "\n",
        "import random\n",
        "import numpy\n",
        "from deap import algorithms\n",
        "from deap import base\n",
        "from deap import creator\n",
        "from deap import tools"
      ],
      "metadata": {
        "id": "2-F0IeBuFjnj"
      },
      "execution_count": null,
      "outputs": []
    },
    {
      "cell_type": "markdown",
      "source": [
        "##Preparación para oprtimización\n",
        "1. Función Objetivo\n",
        "2. Var. de decición\n",
        "3. Operadores\n",
        "\n",
        "![image.png](data:image/png;base64,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)"
      ],
      "metadata": {
        "id": "ccgQwGG7Ktri"
      }
    },
    {
      "cell_type": "code",
      "source": [
        "#Función\n",
        "\n",
        "def objective_function(individual):\n",
        "  x = individual[0]\n",
        "  return (-x**2 + 2*x + 8), #La coma o virgula tiene un uso especial que, porque retornara una tupla,\n",
        "  #y esto e suna forma de permitir que la fun. objt, pueda retornar mas de un valor\n"
      ],
      "metadata": {
        "id": "-1PQxxK2Krel"
      },
      "execution_count": null,
      "outputs": []
    },
    {
      "cell_type": "code",
      "source": [
        "#Creador de individuo, y que taela. SI el es bueno o el malo.\n",
        "\n",
        "creator.create(\"FitnessMax\", base.Fitness, weights=(1.0,)) #función objetivo: nome, (tipo(f.o.), peso de cada objetivo (no caso so um objetivo))\n",
        "creator.create(\"Individual\", list, fitness=creator.FitnessMax) #individuos"
      ],
      "metadata": {
        "id": "snJaB8hmLX7C"
      },
      "execution_count": null,
      "outputs": []
    },
    {
      "cell_type": "markdown",
      "source": [],
      "metadata": {
        "id": "ueI6e6eraY1S"
      }
    },
    {
      "cell_type": "markdown",
      "source": [
        "URL com todas as informaçoes sobre a biblioteca:\n",
        "https://deap.readthedocs.io/en/master/api/tools.html\n"
      ],
      "metadata": {
        "id": "-bq5ENA9qz2e"
      }
    },
    {
      "cell_type": "code",
      "source": [
        "toolbox = base.Toolbox()\n",
        "# Generador de atributos inteiros:  nome, tipo de variaveis, intervalo (limite inf. lim. superior.)\n",
        "toolbox.register(\"generador_nums\", random.uniform, a=-1000, b=1000)\n",
        "#\"Registro una caja de herramientas\" que tiene nombre de generador_nums, que hará la función de random.unifor, y especificamos el rango.\n",
        "#Iniciador de individuos e populaçao\n",
        "toolbox.register(\"individual\", tools.initRepeat, creator.Individual, toolbox.generador_nums, n=1) # 1: numero de variaveis de decisao\n",
        "toolbox.register(\"population\", tools.initRepeat, list, toolbox.individual)                        # lista de individuos\n",
        "toolbox.register(\"evaluate\", objective_function)                                                  # funçao objetivos"
      ],
      "metadata": {
        "id": "eQA28bDnqI3X"
      },
      "execution_count": null,
      "outputs": []
    },
    {
      "cell_type": "code",
      "source": [
        "# Inicializador de operadores\n",
        "toolbox.register(\"mate\", tools.cxMessyOnePoint)\n",
        "toolbox.register(\"mutate\", tools.mutGaussian, mu=0, sigma=1, indpb=0.2)\n",
        "toolbox.register(\"select\", tools.selRoulette)"
      ],
      "metadata": {
        "id": "AckIzdiGu4u1"
      },
      "execution_count": null,
      "outputs": []
    },
    {
      "cell_type": "code",
      "source": [
        "random.seed(0)\n",
        "numpy.random.seed(0)"
      ],
      "metadata": {
        "id": "fPU7xO-nmSiT"
      },
      "execution_count": null,
      "outputs": []
    },
    {
      "cell_type": "code",
      "source": [
        "pop = toolbox.population(n=500) # tamanho da populaçao inicialización del pop\n",
        "hof = tools.HallOfFame(1) # melhor individuo\n",
        "stats = tools.Statistics(lambda ind: ind.fitness.values) #estatisticas que todos quiero visualizar dentro de la optimización\n",
        "stats.register(\"avg\", numpy.mean)\n",
        "stats.register(\"std\", numpy.std)\n",
        "stats.register(\"min\", numpy.min)\n",
        "stats.register(\"max\", numpy.max)\n"
      ],
      "metadata": {
        "id": "WFsUP87YaccO"
      },
      "execution_count": null,
      "outputs": []
    },
    {
      "cell_type": "code",
      "source": [
        "pop[0] #no es función de avaliacao, es x"
      ],
      "metadata": {
        "colab": {
          "base_uri": "https://localhost:8080/"
        },
        "id": "tUNtCuTPcb0R",
        "outputId": "c4ed2801-c253-485c-8b56-1b1cb287407d"
      },
      "execution_count": null,
      "outputs": [
        {
          "output_type": "execute_result",
          "data": {
            "text/plain": [
              "[-890.4654995540791]"
            ]
          },
          "metadata": {},
          "execution_count": 25
        }
      ]
    },
    {
      "cell_type": "markdown",
      "source": [
        "Optimización"
      ],
      "metadata": {
        "id": "ESuFcLcccmYM"
      }
    },
    {
      "cell_type": "code",
      "source": [
        "pop, log = algorithms.eaSimple(pop, toolbox, cxpb=0.0, mutpb=0.2, ngen=20, stats=stats, halloffame=hof, verbose=True)"
      ],
      "metadata": {
        "colab": {
          "base_uri": "https://localhost:8080/"
        },
        "id": "CSW64ijBckOZ",
        "outputId": "d7138d56-9562-4899-8ab1-49c1c8b48bff"
      },
      "execution_count": null,
      "outputs": [
        {
          "output_type": "stream",
          "name": "stdout",
          "text": [
            "gen\tnevals\tavg    \tstd   \tmin         \tmax    \n",
            "0  \t500   \t-339116\t302913\t-1.00052e+06\t4.07256\n",
            "1  \t104   \t4.02486\t0.827432\t-2.86639    \t8.47779\n",
            "2  \t107   \t4.0713 \t1.58406 \t-16.0542    \t8.99734\n",
            "3  \t106   \t4.34513\t1.62125 \t-10.8104    \t8.99734\n",
            "4  \t103   \t4.81593\t1.95145 \t-10.5596    \t8.99972\n",
            "5  \t95    \t5.51342\t2.22094 \t-8.38288    \t8.99972\n",
            "6  \t91    \t6.49444\t2.26258 \t-3.01916    \t8.99734\n",
            "7  \t101   \t7.06298\t2.13318 \t0.126262    \t8.99734\n",
            "8  \t94    \t7.8231 \t1.71936 \t1.48753     \t8.99734\n",
            "9  \t91    \t8.15218\t1.45758 \t-1.3333     \t8.99999\n",
            "10 \t106   \t8.43166\t1.12388 \t-1.38428    \t8.99999\n",
            "11 \t109   \t8.56018\t0.739613\t4.07256     \t8.99997\n",
            "12 \t103   \t8.5772 \t0.753271\t4.07256     \t8.99997\n",
            "13 \t99    \t8.567  \t0.708221\t3.51829     \t8.99997\n",
            "14 \t97    \t8.6554 \t0.627678\t3.42651     \t8.99997\n",
            "15 \t101   \t8.63043\t0.736344\t2.36306     \t8.99899\n",
            "16 \t95    \t8.65295\t0.649648\t2.00575     \t8.99899\n",
            "17 \t98    \t8.64369\t0.720308\t-0.461981   \t9      \n",
            "18 \t108   \t8.67472\t0.626493\t2.94423     \t8.99899\n",
            "19 \t112   \t8.61023\t0.851912\t-0.311686   \t8.99899\n",
            "20 \t102   \t8.72029\t0.441933\t5.97011     \t8.99911\n"
          ]
        }
      ]
    },
    {
      "cell_type": "markdown",
      "source": [
        "Resultado"
      ],
      "metadata": {
        "id": "Z5NV6Mo-fagw"
      }
    },
    {
      "cell_type": "code",
      "source": [
        "# 5 Soluçoes da ultima geraçao\n",
        "import pandas as pd\n",
        "pd.DataFrame(pop).head(5)"
      ],
      "metadata": {
        "colab": {
          "base_uri": "https://localhost:8080/",
          "height": 206
        },
        "id": "0Huqxy_YfLUW",
        "outputId": "4a418c3e-affd-4c36-8af9-154ff25c7d79"
      },
      "execution_count": null,
      "outputs": [
        {
          "output_type": "execute_result",
          "data": {
            "text/plain": [
              "          0\n",
              "0  0.744841\n",
              "1  1.051531\n",
              "2  0.667902\n",
              "3  1.124136\n",
              "4  1.249265"
            ],
            "text/html": [
              "\n",
              "  <div id=\"df-6e0caeaa-75e6-4f98-a76d-9d15fdc22b0d\" class=\"colab-df-container\">\n",
              "    <div>\n",
              "<style scoped>\n",
              "    .dataframe tbody tr th:only-of-type {\n",
              "        vertical-align: middle;\n",
              "    }\n",
              "\n",
              "    .dataframe tbody tr th {\n",
              "        vertical-align: top;\n",
              "    }\n",
              "\n",
              "    .dataframe thead th {\n",
              "        text-align: right;\n",
              "    }\n",
              "</style>\n",
              "<table border=\"1\" class=\"dataframe\">\n",
              "  <thead>\n",
              "    <tr style=\"text-align: right;\">\n",
              "      <th></th>\n",
              "      <th>0</th>\n",
              "    </tr>\n",
              "  </thead>\n",
              "  <tbody>\n",
              "    <tr>\n",
              "      <th>0</th>\n",
              "      <td>0.744841</td>\n",
              "    </tr>\n",
              "    <tr>\n",
              "      <th>1</th>\n",
              "      <td>1.051531</td>\n",
              "    </tr>\n",
              "    <tr>\n",
              "      <th>2</th>\n",
              "      <td>0.667902</td>\n",
              "    </tr>\n",
              "    <tr>\n",
              "      <th>3</th>\n",
              "      <td>1.124136</td>\n",
              "    </tr>\n",
              "    <tr>\n",
              "      <th>4</th>\n",
              "      <td>1.249265</td>\n",
              "    </tr>\n",
              "  </tbody>\n",
              "</table>\n",
              "</div>\n",
              "    <div class=\"colab-df-buttons\">\n",
              "\n",
              "  <div class=\"colab-df-container\">\n",
              "    <button class=\"colab-df-convert\" onclick=\"convertToInteractive('df-6e0caeaa-75e6-4f98-a76d-9d15fdc22b0d')\"\n",
              "            title=\"Convert this dataframe to an interactive table.\"\n",
              "            style=\"display:none;\">\n",
              "\n",
              "  <svg xmlns=\"http://www.w3.org/2000/svg\" height=\"24px\" viewBox=\"0 -960 960 960\">\n",
              "    <path d=\"M120-120v-720h720v720H120Zm60-500h600v-160H180v160Zm220 220h160v-160H400v160Zm0 220h160v-160H400v160ZM180-400h160v-160H180v160Zm440 0h160v-160H620v160ZM180-180h160v-160H180v160Zm440 0h160v-160H620v160Z\"/>\n",
              "  </svg>\n",
              "    </button>\n",
              "\n",
              "  <style>\n",
              "    .colab-df-container {\n",
              "      display:flex;\n",
              "      gap: 12px;\n",
              "    }\n",
              "\n",
              "    .colab-df-convert {\n",
              "      background-color: #E8F0FE;\n",
              "      border: none;\n",
              "      border-radius: 50%;\n",
              "      cursor: pointer;\n",
              "      display: none;\n",
              "      fill: #1967D2;\n",
              "      height: 32px;\n",
              "      padding: 0 0 0 0;\n",
              "      width: 32px;\n",
              "    }\n",
              "\n",
              "    .colab-df-convert:hover {\n",
              "      background-color: #E2EBFA;\n",
              "      box-shadow: 0px 1px 2px rgba(60, 64, 67, 0.3), 0px 1px 3px 1px rgba(60, 64, 67, 0.15);\n",
              "      fill: #174EA6;\n",
              "    }\n",
              "\n",
              "    .colab-df-buttons div {\n",
              "      margin-bottom: 4px;\n",
              "    }\n",
              "\n",
              "    [theme=dark] .colab-df-convert {\n",
              "      background-color: #3B4455;\n",
              "      fill: #D2E3FC;\n",
              "    }\n",
              "\n",
              "    [theme=dark] .colab-df-convert:hover {\n",
              "      background-color: #434B5C;\n",
              "      box-shadow: 0px 1px 3px 1px rgba(0, 0, 0, 0.15);\n",
              "      filter: drop-shadow(0px 1px 2px rgba(0, 0, 0, 0.3));\n",
              "      fill: #FFFFFF;\n",
              "    }\n",
              "  </style>\n",
              "\n",
              "    <script>\n",
              "      const buttonEl =\n",
              "        document.querySelector('#df-6e0caeaa-75e6-4f98-a76d-9d15fdc22b0d button.colab-df-convert');\n",
              "      buttonEl.style.display =\n",
              "        google.colab.kernel.accessAllowed ? 'block' : 'none';\n",
              "\n",
              "      async function convertToInteractive(key) {\n",
              "        const element = document.querySelector('#df-6e0caeaa-75e6-4f98-a76d-9d15fdc22b0d');\n",
              "        const dataTable =\n",
              "          await google.colab.kernel.invokeFunction('convertToInteractive',\n",
              "                                                    [key], {});\n",
              "        if (!dataTable) return;\n",
              "\n",
              "        const docLinkHtml = 'Like what you see? Visit the ' +\n",
              "          '<a target=\"_blank\" href=https://colab.research.google.com/notebooks/data_table.ipynb>data table notebook</a>'\n",
              "          + ' to learn more about interactive tables.';\n",
              "        element.innerHTML = '';\n",
              "        dataTable['output_type'] = 'display_data';\n",
              "        await google.colab.output.renderOutput(dataTable, element);\n",
              "        const docLink = document.createElement('div');\n",
              "        docLink.innerHTML = docLinkHtml;\n",
              "        element.appendChild(docLink);\n",
              "      }\n",
              "    </script>\n",
              "  </div>\n",
              "\n",
              "\n",
              "<div id=\"df-32e9c6cf-11a6-471b-94d7-2b975422e66a\">\n",
              "  <button class=\"colab-df-quickchart\" onclick=\"quickchart('df-32e9c6cf-11a6-471b-94d7-2b975422e66a')\"\n",
              "            title=\"Suggest charts\"\n",
              "            style=\"display:none;\">\n",
              "\n",
              "<svg xmlns=\"http://www.w3.org/2000/svg\" height=\"24px\"viewBox=\"0 0 24 24\"\n",
              "     width=\"24px\">\n",
              "    <g>\n",
              "        <path d=\"M19 3H5c-1.1 0-2 .9-2 2v14c0 1.1.9 2 2 2h14c1.1 0 2-.9 2-2V5c0-1.1-.9-2-2-2zM9 17H7v-7h2v7zm4 0h-2V7h2v10zm4 0h-2v-4h2v4z\"/>\n",
              "    </g>\n",
              "</svg>\n",
              "  </button>\n",
              "\n",
              "<style>\n",
              "  .colab-df-quickchart {\n",
              "      --bg-color: #E8F0FE;\n",
              "      --fill-color: #1967D2;\n",
              "      --hover-bg-color: #E2EBFA;\n",
              "      --hover-fill-color: #174EA6;\n",
              "      --disabled-fill-color: #AAA;\n",
              "      --disabled-bg-color: #DDD;\n",
              "  }\n",
              "\n",
              "  [theme=dark] .colab-df-quickchart {\n",
              "      --bg-color: #3B4455;\n",
              "      --fill-color: #D2E3FC;\n",
              "      --hover-bg-color: #434B5C;\n",
              "      --hover-fill-color: #FFFFFF;\n",
              "      --disabled-bg-color: #3B4455;\n",
              "      --disabled-fill-color: #666;\n",
              "  }\n",
              "\n",
              "  .colab-df-quickchart {\n",
              "    background-color: var(--bg-color);\n",
              "    border: none;\n",
              "    border-radius: 50%;\n",
              "    cursor: pointer;\n",
              "    display: none;\n",
              "    fill: var(--fill-color);\n",
              "    height: 32px;\n",
              "    padding: 0;\n",
              "    width: 32px;\n",
              "  }\n",
              "\n",
              "  .colab-df-quickchart:hover {\n",
              "    background-color: var(--hover-bg-color);\n",
              "    box-shadow: 0 1px 2px rgba(60, 64, 67, 0.3), 0 1px 3px 1px rgba(60, 64, 67, 0.15);\n",
              "    fill: var(--button-hover-fill-color);\n",
              "  }\n",
              "\n",
              "  .colab-df-quickchart-complete:disabled,\n",
              "  .colab-df-quickchart-complete:disabled:hover {\n",
              "    background-color: var(--disabled-bg-color);\n",
              "    fill: var(--disabled-fill-color);\n",
              "    box-shadow: none;\n",
              "  }\n",
              "\n",
              "  .colab-df-spinner {\n",
              "    border: 2px solid var(--fill-color);\n",
              "    border-color: transparent;\n",
              "    border-bottom-color: var(--fill-color);\n",
              "    animation:\n",
              "      spin 1s steps(1) infinite;\n",
              "  }\n",
              "\n",
              "  @keyframes spin {\n",
              "    0% {\n",
              "      border-color: transparent;\n",
              "      border-bottom-color: var(--fill-color);\n",
              "      border-left-color: var(--fill-color);\n",
              "    }\n",
              "    20% {\n",
              "      border-color: transparent;\n",
              "      border-left-color: var(--fill-color);\n",
              "      border-top-color: var(--fill-color);\n",
              "    }\n",
              "    30% {\n",
              "      border-color: transparent;\n",
              "      border-left-color: var(--fill-color);\n",
              "      border-top-color: var(--fill-color);\n",
              "      border-right-color: var(--fill-color);\n",
              "    }\n",
              "    40% {\n",
              "      border-color: transparent;\n",
              "      border-right-color: var(--fill-color);\n",
              "      border-top-color: var(--fill-color);\n",
              "    }\n",
              "    60% {\n",
              "      border-color: transparent;\n",
              "      border-right-color: var(--fill-color);\n",
              "    }\n",
              "    80% {\n",
              "      border-color: transparent;\n",
              "      border-right-color: var(--fill-color);\n",
              "      border-bottom-color: var(--fill-color);\n",
              "    }\n",
              "    90% {\n",
              "      border-color: transparent;\n",
              "      border-bottom-color: var(--fill-color);\n",
              "    }\n",
              "  }\n",
              "</style>\n",
              "\n",
              "  <script>\n",
              "    async function quickchart(key) {\n",
              "      const quickchartButtonEl =\n",
              "        document.querySelector('#' + key + ' button');\n",
              "      quickchartButtonEl.disabled = true;  // To prevent multiple clicks.\n",
              "      quickchartButtonEl.classList.add('colab-df-spinner');\n",
              "      try {\n",
              "        const charts = await google.colab.kernel.invokeFunction(\n",
              "            'suggestCharts', [key], {});\n",
              "      } catch (error) {\n",
              "        console.error('Error during call to suggestCharts:', error);\n",
              "      }\n",
              "      quickchartButtonEl.classList.remove('colab-df-spinner');\n",
              "      quickchartButtonEl.classList.add('colab-df-quickchart-complete');\n",
              "    }\n",
              "    (() => {\n",
              "      let quickchartButtonEl =\n",
              "        document.querySelector('#df-32e9c6cf-11a6-471b-94d7-2b975422e66a button');\n",
              "      quickchartButtonEl.style.display =\n",
              "        google.colab.kernel.accessAllowed ? 'block' : 'none';\n",
              "    })();\n",
              "  </script>\n",
              "</div>\n",
              "\n",
              "    </div>\n",
              "  </div>\n"
            ],
            "application/vnd.google.colaboratory.intrinsic+json": {
              "type": "dataframe",
              "summary": "{\n  \"name\": \"pd\",\n  \"rows\": 5,\n  \"fields\": [\n    {\n      \"column\": 0,\n      \"properties\": {\n        \"dtype\": \"number\",\n        \"std\": 0.25016173872208397,\n        \"min\": 0.6679022371565821,\n        \"max\": 1.2492651819498077,\n        \"num_unique_values\": 5,\n        \"samples\": [\n          1.0515314327387117,\n          1.2492651819498077,\n          0.6679022371565821\n        ],\n        \"semantic_type\": \"\",\n        \"description\": \"\"\n      }\n    }\n  ]\n}"
            }
          },
          "metadata": {},
          "execution_count": 27
        }
      ]
    },
    {
      "cell_type": "code",
      "source": [
        "#Melhor solucáo\n",
        "print(\"Melhor Individuo:\")\n",
        "print(hof[0])\n",
        "\n",
        "#Melhor resultadp da funcáo objetivo\n",
        "print(\"Melhor Resultado da:\")\n",
        "print(objective_function(hof[0]))\n"
      ],
      "metadata": {
        "colab": {
          "base_uri": "https://localhost:8080/"
        },
        "id": "_zXHHGDYfoFW",
        "outputId": "0771b0bf-5eb2-4870-90d7-1fdb5a87f7c2"
      },
      "execution_count": null,
      "outputs": [
        {
          "output_type": "stream",
          "name": "stdout",
          "text": [
            "Melhor Individuo:\n",
            "[1.001885353568245]\n",
            "Melhor Resultado da:\n",
            "(8.999996445441923,)\n"
          ]
        }
      ]
    },
    {
      "cell_type": "code",
      "source": [
        "# Vamos a dar una olhada na funçao\n",
        "\n",
        "import matplotlib.pyplot as plt\n",
        "x = numpy.linspace(-10,10,100) #100 pontos enre -10 e 10\n",
        "y = numpy.empty(len(x))\n",
        "for i in range(len(x)):\n",
        "  y[i] = objective_function([x[i]])[0]\n",
        "  plt.plot(x,y); #Variavel de decisáo vs funcáo objetivo\n",
        "  plt.scatter(hof, objective_function(hof[0]), c=\"red\");\n",
        "  plt.xlabel(\"Variavel de decisao\");\n",
        "  plt.ylabel(\"Funçao Objetivo\");\n"
      ],
      "metadata": {
        "colab": {
          "base_uri": "https://localhost:8080/",
          "height": 449
        },
        "id": "trlqeH8Qf7O2",
        "outputId": "5d7c7f22-e998-40b5-f16a-7ad425f6b403"
      },
      "execution_count": null,
      "outputs": [
        {
          "output_type": "display_data",
          "data": {
            "text/plain": [
              "<Figure size 640x480 with 1 Axes>"
            ],
            "image/png": "[encoded data removed]"
          },
          "metadata": {}
        }
      ]
    },
    {
      "cell_type": "code",
      "source": [],
      "metadata": {
        "id": "SqOVU2f1jRov"
      },
      "execution_count": null,
      "outputs": []
    }
  ]
}