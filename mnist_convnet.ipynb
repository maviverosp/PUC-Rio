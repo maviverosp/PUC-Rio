{
  "cells": [
    {
      "cell_type": "markdown",
      "metadata": {
        "id": "view-in-github",
        "colab_type": "text"
      },
      "source": [
        "<a href=\"https://colab.research.google.com/github/maviverosp/PUC-Rio/blob/main/mnist_convnet.ipynb\" target=\"_parent\"><img src=\"https://colab.research.google.com/assets/colab-badge.svg\" alt=\"Open In Colab\"/></a>"
      ]
    },
    {
      "cell_type": "markdown",
      "metadata": {
        "id": "WWW06K5vo-gp"
      },
      "source": [
        "## Setup"
      ]
    },
    {
      "cell_type": "code",
      "execution_count": 24,
      "metadata": {
        "id": "bdJWEcPZo-gq"
      },
      "outputs": [],
      "source": [
        "import numpy as np\n",
        "from tensorflow import keras\n",
        "from tensorflow.keras import layers\n",
        "import matplotlib.pyplot as plt"
      ]
    },
    {
      "cell_type": "markdown",
      "metadata": {
        "id": "oQVX9L1No-gt"
      },
      "source": [
        "## Prepare the data"
      ]
    },
    {
      "cell_type": "code",
      "execution_count": 25,
      "metadata": {
        "id": "dXbB_b-ko-gt",
        "outputId": "7d738973-8430-4a61-b86b-0bfe830d2f99",
        "colab": {
          "base_uri": "https://localhost:8080/"
        }
      },
      "outputs": [
        {
          "output_type": "stream",
          "name": "stdout",
          "text": [
            "x_train shape: (60000, 28, 28, 1)\n",
            "60000 train samples\n",
            "10000 test samples\n"
          ]
        }
      ],
      "source": [
        "# Model / data parameters\n",
        "num_classes = 10\n",
        "input_shape = (28, 28, 1)\n",
        "\n",
        "# the data, split between train and test sets\n",
        "(x_train, y_train), (x_test, y_test) = keras.datasets.mnist.load_data()\n",
        "\n",
        "# Scale images to the [0, 1] range\n",
        "x_train = x_train.astype(\"float32\") / 255\n",
        "x_test = x_test.astype(\"float32\") / 255\n",
        "# Make sure images have shape (28, 28, 1)\n",
        "x_train = np.expand_dims(x_train, -1)\n",
        "x_test = np.expand_dims(x_test, -1)\n",
        "print(\"x_train shape:\", x_train.shape)\n",
        "print(x_train.shape[0], \"train samples\")\n",
        "print(x_test.shape[0], \"test samples\")\n",
        "\n",
        "\n",
        "# convert class vectors to binary class matrices\n",
        "y_train = keras.utils.to_categorical(y_train, num_classes)\n",
        "y_test = keras.utils.to_categorical(y_test, num_classes)"
      ]
    },
    {
      "cell_type": "code",
      "source": [
        "\n",
        "#access first image\n",
        "first_image = x_train[7]\n",
        "\n",
        "first_image = np.array(first_image)\n",
        "pixels = first_image.reshape((28, 28))\n",
        "plt.imshow(pixels)"
      ],
      "metadata": {
        "id": "voZsc_GGqvao",
        "outputId": "44a74b01-271c-41b7-f61b-7e4052c3c938",
        "colab": {
          "base_uri": "https://localhost:8080/",
          "height": 447
        }
      },
      "execution_count": 26,
      "outputs": [
        {
          "output_type": "execute_result",
          "data": {
            "text/plain": [
              "<matplotlib.image.AxesImage at 0x7eb1d824ccd0>"
            ]
          },
          "metadata": {},
          "execution_count": 26
        },
        {
          "output_type": "display_data",
          "data": {
            "text/plain": [
              "<Figure size 640x480 with 1 Axes>"
            ],
            "image/png": "[encoded data removed]"
          },
          "metadata": {}
        }
      ]
    },
    {
      "cell_type": "markdown",
      "metadata": {
        "id": "MiXX9Irfo-gu"
      },
      "source": [
        "## Build the model"
      ]
    },
    {
      "cell_type": "code",
      "execution_count": 27,
      "metadata": {
        "id": "seGuX4YZo-gu",
        "outputId": "6b4930ab-742d-418e-82a3-241ff98100c2",
        "colab": {
          "base_uri": "https://localhost:8080/"
        }
      },
      "outputs": [
        {
          "output_type": "stream",
          "name": "stdout",
          "text": [
            "Model: \"sequential_3\"\n",
            "_________________________________________________________________\n",
            " Layer (type)                Output Shape              Param #   \n",
            "=================================================================\n",
            " conv2d_6 (Conv2D)           (None, 26, 26, 32)        320       \n",
            "                                                                 \n",
            " max_pooling2d_6 (MaxPoolin  (None, 13, 13, 32)        0         \n",
            " g2D)                                                            \n",
            "                                                                 \n",
            " conv2d_7 (Conv2D)           (None, 11, 11, 64)        18496     \n",
            "                                                                 \n",
            " max_pooling2d_7 (MaxPoolin  (None, 5, 5, 64)          0         \n",
            " g2D)                                                            \n",
            "                                                                 \n",
            " flatten_3 (Flatten)         (None, 1600)              0         \n",
            "                                                                 \n",
            " dropout_3 (Dropout)         (None, 1600)              0         \n",
            "                                                                 \n",
            " dense_3 (Dense)             (None, 10)                16010     \n",
            "                                                                 \n",
            "=================================================================\n",
            "Total params: 34826 (136.04 KB)\n",
            "Trainable params: 34826 (136.04 KB)\n",
            "Non-trainable params: 0 (0.00 Byte)\n",
            "_________________________________________________________________\n"
          ]
        }
      ],
      "source": [
        "model = keras.Sequential(\n",
        "    [\n",
        "        keras.Input(shape=input_shape),\n",
        "        layers.Conv2D(32, kernel_size=(3, 3), activation=\"relu\"),\n",
        "        layers.MaxPooling2D(pool_size=(2, 2)),\n",
        "        layers.Conv2D(64, kernel_size=(3, 3), activation=\"relu\"),\n",
        "        layers.MaxPooling2D(pool_size=(2, 2)),\n",
        "        layers.Flatten(),\n",
        "        layers.Dropout(0.5),\n",
        "        layers.Dense(num_classes, activation=\"softmax\"),\n",
        "    ]\n",
        ")\n",
        "\n",
        "model.summary()"
      ]
    },
    {
      "cell_type": "markdown",
      "metadata": {
        "id": "PerEtEXjo-gv"
      },
      "source": [
        "## Train the model"
      ]
    },
    {
      "cell_type": "code",
      "execution_count": 28,
      "metadata": {
        "id": "hu8Ia_Eco-gw",
        "outputId": "49a7d1f0-5b52-409b-ea9e-775177a20f04",
        "colab": {
          "base_uri": "https://localhost:8080/"
        }
      },
      "outputs": [
        {
          "output_type": "stream",
          "name": "stdout",
          "text": [
            "Epoch 1/15\n",
            "422/422 [==============================] - 44s 103ms/step - loss: 1.5471 - accuracy: 0.5107 - val_loss: 0.4875 - val_accuracy: 0.8880\n",
            "Epoch 2/15\n",
            "422/422 [==============================] - 46s 108ms/step - loss: 0.5562 - accuracy: 0.8265 - val_loss: 0.2632 - val_accuracy: 0.9307\n",
            "Epoch 3/15\n",
            "422/422 [==============================] - 43s 102ms/step - loss: 0.3751 - accuracy: 0.8867 - val_loss: 0.1973 - val_accuracy: 0.9458\n",
            "Epoch 4/15\n",
            "422/422 [==============================] - 45s 107ms/step - loss: 0.2995 - accuracy: 0.9098 - val_loss: 0.1653 - val_accuracy: 0.9552\n",
            "Epoch 5/15\n",
            "422/422 [==============================] - 45s 106ms/step - loss: 0.2578 - accuracy: 0.9221 - val_loss: 0.1450 - val_accuracy: 0.9620\n",
            "Epoch 6/15\n",
            "422/422 [==============================] - 43s 102ms/step - loss: 0.2278 - accuracy: 0.9313 - val_loss: 0.1315 - val_accuracy: 0.9647\n",
            "Epoch 7/15\n",
            "422/422 [==============================] - 44s 104ms/step - loss: 0.2106 - accuracy: 0.9370 - val_loss: 0.1201 - val_accuracy: 0.9677\n",
            "Epoch 8/15\n",
            "422/422 [==============================] - 45s 106ms/step - loss: 0.1947 - accuracy: 0.9410 - val_loss: 0.1133 - val_accuracy: 0.9700\n",
            "Epoch 9/15\n",
            "422/422 [==============================] - 43s 102ms/step - loss: 0.1819 - accuracy: 0.9456 - val_loss: 0.1055 - val_accuracy: 0.9728\n",
            "Epoch 10/15\n",
            "422/422 [==============================] - 44s 104ms/step - loss: 0.1707 - accuracy: 0.9491 - val_loss: 0.1006 - val_accuracy: 0.9730\n",
            "Epoch 11/15\n",
            "422/422 [==============================] - 43s 102ms/step - loss: 0.1641 - accuracy: 0.9506 - val_loss: 0.0962 - val_accuracy: 0.9747\n",
            "Epoch 12/15\n",
            "422/422 [==============================] - 45s 106ms/step - loss: 0.1544 - accuracy: 0.9543 - val_loss: 0.0922 - val_accuracy: 0.9753\n",
            "Epoch 13/15\n",
            "422/422 [==============================] - 45s 107ms/step - loss: 0.1493 - accuracy: 0.9558 - val_loss: 0.0883 - val_accuracy: 0.9767\n",
            "Epoch 14/15\n",
            "422/422 [==============================] - 43s 102ms/step - loss: 0.1428 - accuracy: 0.9572 - val_loss: 0.0851 - val_accuracy: 0.9765\n",
            "Epoch 15/15\n",
            "422/422 [==============================] - 44s 104ms/step - loss: 0.1405 - accuracy: 0.9575 - val_loss: 0.0832 - val_accuracy: 0.9768\n"
          ]
        },
        {
          "output_type": "execute_result",
          "data": {
            "text/plain": [
              "<keras.src.callbacks.History at 0x7eb1efa1a770>"
            ]
          },
          "metadata": {},
          "execution_count": 28
        }
      ],
      "source": [
        "batch_size = 128\n",
        "epochs = 15\n",
        "\n",
        "model.compile(loss=\"categorical_crossentropy\", optimizer=\"sgd\", metrics=[\"accuracy\"])\n",
        "\n",
        "model.fit(x_train, y_train, batch_size=batch_size, epochs=epochs, validation_split=0.1)"
      ]
    },
    {
      "cell_type": "markdown",
      "metadata": {
        "id": "YFMoJmKfo-gx"
      },
      "source": [
        "## Evaluate the trained model"
      ]
    },
    {
      "cell_type": "code",
      "execution_count": 29,
      "metadata": {
        "id": "56Z7iT7mo-gx",
        "outputId": "6f132549-84e0-4abe-e014-c0c29ba1651e",
        "colab": {
          "base_uri": "https://localhost:8080/"
        }
      },
      "outputs": [
        {
          "output_type": "stream",
          "name": "stdout",
          "text": [
            "Test loss: 0.08762475103139877\n",
            "Test accuracy: 0.9721999764442444\n"
          ]
        }
      ],
      "source": [
        "score = model.evaluate(x_test, y_test, verbose=0)\n",
        "print(\"Test loss:\", score[0])\n",
        "print(\"Test accuracy:\", score[1])"
      ]
    }
  ],
  "metadata": {
    "colab": {
      "provenance": [],
      "toc_visible": true,
      "include_colab_link": true
    },
    "kernelspec": {
      "display_name": "Python 3",
      "language": "python",
      "name": "python3"
    },
    "language_info": {
      "codemirror_mode": {
        "name": "ipython",
        "version": 3
      },
      "file_extension": ".py",
      "mimetype": "text/x-python",
      "name": "python",
      "nbconvert_exporter": "python",
      "pygments_lexer": "ipython3",
      "version": "3.7.0"
    }
  },
  "nbformat": 4,
  "nbformat_minor": 0
}