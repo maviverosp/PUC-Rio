{
  "nbformat": 4,
  "nbformat_minor": 0,
  "metadata": {
    "colab": {
      "provenance": [],
      "gpuType": "T4",
      "authorship_tag": "ABX9TyPE0FtPqCWxS3I1KaYq43sZ",
      "include_colab_link": true
    },
    "kernelspec": {
      "name": "python3",
      "display_name": "Python 3"
    },
    "language_info": {
      "name": "python"
    },
    "accelerator": "GPU"
  },
  "cells": [
    {
      "cell_type": "markdown",
      "metadata": {
        "id": "view-in-github",
        "colab_type": "text"
      },
      "source": [
        "<a href=\"https://colab.research.google.com/github/maviverosp/PUC-Rio/blob/main/Control_de_Temperatura(tipo_Fuzzy).ipynb\" target=\"_parent\"><img src=\"https://colab.research.google.com/assets/colab-badge.svg\" alt=\"Open In Colab\"/></a>"
      ]
    },
    {
      "cell_type": "code",
      "execution_count": 1,
      "metadata": {
        "colab": {
          "base_uri": "https://localhost:8080/"
        },
        "id": "LK7BnzhtURnl",
        "outputId": "48c5418a-c1ea-4a8d-d4d3-8f3834c5e23c"
      },
      "outputs": [
        {
          "output_type": "stream",
          "name": "stdout",
          "text": [
            "Temperatura range is  0 to 40\n",
            "Humidity range is  0 to 100\n"
          ]
        }
      ],
      "source": [
        "#Reglas\n",
        "print(\"Temperatura range is  0 to 40\")\n",
        "print(\"Humidity range is  0 to 100\")"
      ]
    },
    {
      "cell_type": "code",
      "source": [
        "#Enter temperature and humidity\n",
        "t=int(input(\"Enter temperature: \"))\n",
        "h=int(input(\"Enter humidity: \"))"
      ],
      "metadata": {
        "colab": {
          "base_uri": "https://localhost:8080/"
        },
        "id": "mgB1y9VWLaXZ",
        "outputId": "45227170-582a-4a03-85eb-af2cf4504204"
      },
      "execution_count": 2,
      "outputs": [
        {
          "name": "stdout",
          "output_type": "stream",
          "text": [
            "Enter temperature: 10\n",
            "Enter humidity: 10\n"
          ]
        }
      ]
    },
    {
      "cell_type": "code",
      "source": [
        "#Fuzzify the input\n",
        "#For temperature\n",
        "\n",
        "fuzzified_temp=str()\n",
        "if t in range(36,41):\n",
        "  fuzzified_temp=\"hottest\"\n",
        "elif t in range(30,36):\n",
        "  fuzzified_temp=(\"hot\")\n",
        "elif t in range(21,30):\n",
        "  fuzzified_temp=(\"warm\")\n",
        "elif t in range(10,21):\n",
        "  fuzzified_temp=(\"cold\")\n",
        "elif t in range(0,10):\n",
        "  fuzzified_temp=(\"coldest\")\n",
        "print(t,fuzzified_temp)"
      ],
      "metadata": {
        "colab": {
          "base_uri": "https://localhost:8080/"
        },
        "id": "iKkEG9DEMVHf",
        "outputId": "b65255b2-5088-404c-cdcc-6ebdb3f36547"
      },
      "execution_count": 3,
      "outputs": [
        {
          "output_type": "stream",
          "name": "stdout",
          "text": [
            "10 cold\n"
          ]
        }
      ]
    },
    {
      "cell_type": "code",
      "source": [
        "#For Humidity\n",
        "fuzzified_hum=str()\n",
        "if t in range(60,101):\n",
        "  fuzzified_hum=\"high\"\n",
        "elif t in range(30,60):\n",
        "  fuzzified_hum=(\"optimal\")\n",
        "elif t in range(0,30):\n",
        "  fuzzified_hum=(\"low\")\n",
        "\n",
        "print(h, fuzzified_hum)"
      ],
      "metadata": {
        "colab": {
          "base_uri": "https://localhost:8080/"
        },
        "id": "bCc_QeSnOeAL",
        "outputId": "7f9b24b0-312e-4e96-9197-fa6b949f3559"
      },
      "execution_count": 4,
      "outputs": [
        {
          "output_type": "stream",
          "name": "stdout",
          "text": [
            "10 low\n"
          ]
        }
      ]
    },
    {
      "cell_type": "code",
      "source": [
        "#Air Conditioner levels\n",
        "knob_1= \"Tuning the AC to very cold mode....\"\n",
        "knob_2= \"Tuning the AC to cold mode....\"\n",
        "knob_3= \"Tuning the AC to no change mode....\"\n",
        "knob_4= \"Tuning the AC to warm mode....\"\n",
        "knob_5= \"Tuning the AC to very warm mode....\""
      ],
      "metadata": {
        "id": "eXUOuQX6Ow70"
      },
      "execution_count": 5,
      "outputs": []
    },
    {
      "cell_type": "code",
      "source": [
        "#Rules to determine\n",
        "decision = str()\n",
        "if fuzzified_temp==\"hottest\" and fuzzified_hum==\"high\":\n",
        "    decision = knob_1\n",
        "elif fuzzified_temp==\"hottest\" and fuzzified_hum==\"optimal\":\n",
        "    decision = knob_1\n",
        "elif fuzzified_temp==\"hottest\" and fuzzified_hum==\"low\":\n",
        "    decision = knob_1\n",
        "elif fuzzified_temp==\"hot\" and fuzzified_hum==\"high\":\n",
        "    decision = knob_2\n",
        "elif fuzzified_temp==\"hot\" and fuzzified_hum==\"optimal\":\n",
        "    decision = knob_2\n",
        "elif fuzzified_temp==\"hot\" and fuzzified_hum==\"low\":\n",
        "    decision = knob_2\n",
        "elif fuzzified_temp==\"warm\" and fuzzified_hum==\"high\":\n",
        "    decision = knob_2\n",
        "elif fuzzified_temp==\"warm\" and fuzzified_hum==\"optimal\":\n",
        "    decision = knob_3\n",
        "elif fuzzified_temp==\"warm\" and fuzzified_hum==\"low\":\n",
        "    decision = knob_3\n",
        "elif fuzzified_temp==\"cold\" and fuzzified_hum==\"high\":\n",
        "    decision = knob_4\n",
        "elif fuzzified_temp==\"cold\" and fuzzified_hum==\"optimal\":\n",
        "    decision = knob_3\n",
        "elif fuzzified_temp==\"cold\" and fuzzified_hum==\"low\":\n",
        "    decision = knob_4\n",
        "elif fuzzified_temp==\"coldest\" and fuzzified_hum==\"high\":\n",
        "    decision = knob_5\n",
        "elif fuzzified_temp==\"coldest\" and fuzzified_hum==\"optimal\":\n",
        "    decision = knob_4\n",
        "elif fuzzified_temp==\"coldest\" and fuzzified_hum==\"low\":\n",
        "    decision = knob_5"
      ],
      "metadata": {
        "id": "QEoVQfAvPHqi"
      },
      "execution_count": 6,
      "outputs": []
    },
    {
      "cell_type": "code",
      "source": [
        "#Final decisión\n",
        "print(\"Room temperature is \" + str(t))\n",
        "print(\"Room humidity is \" + str(h))\n",
        "\n",
        "print(decision)"
      ],
      "metadata": {
        "colab": {
          "base_uri": "https://localhost:8080/"
        },
        "id": "4W8-enJCPP10",
        "outputId": "7a61e908-f93c-4cbe-a03b-a28cc36b2e70"
      },
      "execution_count": 7,
      "outputs": [
        {
          "output_type": "stream",
          "name": "stdout",
          "text": [
            "Room temperature is 10\n",
            "Room humidity is 10\n",
            "Tuning the AC to warm mode....\n"
          ]
        }
      ]
    },
    {
      "cell_type": "code",
      "source": [],
      "metadata": {
        "id": "x-YTA5kMPd2Z"
      },
      "execution_count": 7,
      "outputs": []
    }
  ]
}